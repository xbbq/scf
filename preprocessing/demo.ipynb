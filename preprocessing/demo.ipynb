{
 "cells": [
  {
   "cell_type": "code",
   "execution_count": 1,
   "id": "0440c9de-f6dd-48c5-afe0-174356bab74e",
   "metadata": {},
   "outputs": [
    {
     "name": "stdout",
     "output_type": "stream",
     "text": [
      "  % Total    % Received % Xferd  Average Speed   Time    Time     Time  Current\n",
      "                                 Dload  Upload   Total   Spent    Left  Speed\n",
      "100  1116  100  1116    0     0    803      0  0:00:01  0:00:01 --:--:--   804\n",
      "  % Total    % Received % Xferd  Average Speed   Time    Time     Time  Current\n",
      "                                 Dload  Upload   Total   Spent    Left  Speed\n",
      "100  297k  100  297k    0     0   132k      0  0:00:02  0:00:02 --:--:--  132k\n",
      "  % Total    % Received % Xferd  Average Speed   Time    Time     Time  Current\n",
      "                                 Dload  Upload   Total   Spent    Left  Speed\n",
      "100  367k  100  367k    0     0   138k      0  0:00:02  0:00:02 --:--:--  138k\n",
      "  % Total    % Received % Xferd  Average Speed   Time    Time     Time  Current\n",
      "                                 Dload  Upload   Total   Spent    Left  Speed\n",
      "100  565k  100  565k    0     0   263k      0  0:00:02  0:00:02 --:--:--  263k\n"
     ]
    }
   ],
   "source": [
    "! bash demo.sh"
   ]
  },
  {
   "cell_type": "markdown",
   "id": "1d7c8551-83b7-4daa-b278-310f0f5d3f9b",
   "metadata": {},
   "source": [
    "## Example 1"
   ]
  },
  {
   "cell_type": "code",
   "execution_count": 2,
   "id": "56b07400-cca4-4c38-894d-0e21562a8fb0",
   "metadata": {},
   "outputs": [
    {
     "name": "stderr",
     "output_type": "stream",
     "text": [
      "/opt/conda/envs/gnew/lib/python3.10/site-packages/tqdm/auto.py:21: TqdmWarning: IProgress not found. Please update jupyter and ipywidgets. See https://ipywidgets.readthedocs.io/en/stable/user_install.html\n",
      "  from .autonotebook import tqdm as notebook_tqdm\n"
     ]
    }
   ],
   "source": [
    "from scRNA_workflow import *\n",
    "sc.settings.figdir='./figures_new/' # set figure folder\n",
    "\n",
    "path = './GSM4653863_HC1/'\n",
    "adata = sc.read_10x_mtx(path) # read from 10x file"
   ]
  },
  {
   "cell_type": "code",
   "execution_count": 3,
   "id": "ff9eb670-b420-43cb-9f96-3e6cf4f3fd3e",
   "metadata": {},
   "outputs": [],
   "source": [
    "X_df= pd.DataFrame(sparse.csr_matrix.toarray(adata.X),index=adata.obs.index.tolist(),columns=adata.var.index.tolist()) # read from csv file\n",
    "gene_list_df = pd.read_csv('./OS_scRNA_gene_index.19264.tsv', header=0, delimiter='\\t')\n",
    "gene_list = list(gene_list_df['gene_name'])\n",
    "X_df, to_fill_columns, var = main_gene_selection(X_df, gene_list)\n",
    "adata_uni = sc.AnnData(X_df)\n",
    "adata_uni.obs = adata.obs\n",
    "adata_uni.uns = adata.uns"
   ]
  },
  {
   "cell_type": "code",
   "execution_count": 4,
   "id": "f3030870-3c95-4238-ae3b-b44c7be99e57",
   "metadata": {},
   "outputs": [
    {
     "name": "stdout",
     "output_type": "stream",
     "text": [
      "WARNING: saving figure to file figures_new/highest_expr_genes_20TopGene.png\n",
      "Before filter, 171 Cells, 19264 Genes\n",
      "After filter, 86 Cells, 19264 Genes\n",
      "WARNING: saving figure to file figures_new/violin_QC_guide.png\n",
      "WARNING: saving figure to file figures_new/scatter_pct_counts_mt.png\n",
      "WARNING: saving figure to file figures_new/scatter_n_genes_by_counts.png\n"
     ]
    }
   ],
   "source": [
    "adata_uni = BasicFilter(adata_uni,qc_min_genes=200,qc_min_cells=0) # filter cell and gene by lower limit\n",
    "adata_uni = QC_Metrics_info(adata_uni)"
   ]
  },
  {
   "cell_type": "code",
   "execution_count": 5,
   "id": "e88fd4ee-405b-4eb2-a8d8-97cc59b5ec7f",
   "metadata": {},
   "outputs": [
    {
     "name": "stdout",
     "output_type": "stream",
     "text": [
      "Current data saved\n"
     ]
    }
   ],
   "source": [
    "save_path = './GSM4653863_HC1/demo.h5ad'\n",
    "save_adata_h5ad(adata_uni,save_path)"
   ]
  },
  {
   "cell_type": "markdown",
   "id": "6790f87e-81a1-41d1-8bc5-66caed65539c",
   "metadata": {},
   "source": [
    "## Example 2"
   ]
  },
  {
   "cell_type": "code",
   "execution_count": 6,
   "id": "ee11be60-876e-42c3-9f13-1676473d2e3e",
   "metadata": {},
   "outputs": [],
   "source": [
    "path = './GSM4914711/data.csv.gz'\n",
    "adata = pd.read_csv(path,index_col=0) # read from csv file"
   ]
  },
  {
   "cell_type": "code",
   "execution_count": 7,
   "id": "d05d6093-be33-44fa-b804-9d54f8f984e0",
   "metadata": {},
   "outputs": [],
   "source": [
    "X_df, to_fill_columns, var = main_gene_selection(adata.T, gene_list)\n",
    "adata_uni = sc.AnnData(X_df)"
   ]
  },
  {
   "cell_type": "code",
   "execution_count": 8,
   "id": "e0ff3d81-db3c-4e00-9f05-6029712abf07",
   "metadata": {},
   "outputs": [
    {
     "name": "stdout",
     "output_type": "stream",
     "text": [
      "WARNING: saving figure to file figures_new/highest_expr_genes_20TopGene.png\n",
      "Before filter, 144 Cells, 19264 Genes\n",
      "After filter, 144 Cells, 19264 Genes\n",
      "WARNING: saving figure to file figures_new/violin_QC_guide.png\n",
      "WARNING: saving figure to file figures_new/scatter_pct_counts_mt.png\n",
      "WARNING: saving figure to file figures_new/scatter_n_genes_by_counts.png\n"
     ]
    }
   ],
   "source": [
    "adata_uni = BasicFilter(adata_uni,qc_min_genes=200,qc_min_cells=0) # filter cell and gene by lower limit\n",
    "adata_uni = QC_Metrics_info(adata_uni)"
   ]
  },
  {
   "cell_type": "code",
   "execution_count": 9,
   "id": "b3a3c598-5639-489e-9c9c-a9e16d559074",
   "metadata": {},
   "outputs": [
    {
     "name": "stdout",
     "output_type": "stream",
     "text": [
      "Current data saved\n"
     ]
    }
   ],
   "source": [
    "save_path = './GSM4914711/demo.h5ad'\n",
    "save_adata_h5ad(adata_uni,save_path)"
   ]
  },
  {
   "cell_type": "code",
   "execution_count": null,
   "id": "c3ad5569-1191-4ae7-ae3a-2dca4a05b9d4",
   "metadata": {},
   "outputs": [],
   "source": []
  }
 ],
 "metadata": {
  "kernelspec": {
   "display_name": "gnew",
   "language": "python",
   "name": "gnew"
  },
  "language_info": {
   "codemirror_mode": {
    "name": "ipython",
    "version": 3
   },
   "file_extension": ".py",
   "mimetype": "text/x-python",
   "name": "python",
   "nbconvert_exporter": "python",
   "pygments_lexer": "ipython3",
   "version": "3.10.10"
  }
 },
 "nbformat": 4,
 "nbformat_minor": 5
}
